{
  "cells": [
    {
      "cell_type": "markdown",
      "metadata": {
        "id": "EUSvb7WtISSV"
      },
      "source": [
        "# [Decipher](https://github.com/dsymbol/decipher) 📺️ Colab Notebook\n",
        "\n",
        "If you have any issues, questions or suggestions, post an issue [here](https://github.com/dsymbol/decipher/issues).\n",
        "\n",
        "If you would like to submit a pull request, please do so [here](https://github.com/dsymbol/decipher/pulls)."
      ]
    },
    {
      "cell_type": "code",
      "execution_count": null,
      "metadata": {
        "cellView": "form",
        "id": "0OTuWHHYKbvp"
      },
      "outputs": [],
      "source": [
        "#@title ## Install and Run Decipher\n",
        "\n",
        "#@markdown Make sure the Hardware accelerator is set to GPU, go to Runtime > Change runtime type and select GPU in the \"Hardware accelerator\" dropdown menu then click \"Save\".\n",
        "\n",
        "#@markdown Once installation is done you will get a link to gradio.app, open it.\n",
        "!nvidia-smi\n",
        "!apt update && apt install ffmpeg\n",
        "!pip install git+https://github.com/salvprest/decipher.git@mod-work\n",
        "!python -m decipher gui --share"
      ]
    }
  ],
  "metadata": {
    "accelerator": "GPU",
    "colab": {
      "private_outputs": true,
      "provenance": []
    },
    "gpuClass": "standard",
    "kernelspec": {
      "display_name": "Python 3",
      "name": "python3"
    },
    "language_info": {
      "name": "python"
    }
  },
  "nbformat": 4,
  "nbformat_minor": 0
}
